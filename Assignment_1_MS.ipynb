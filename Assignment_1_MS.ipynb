{
 "cells": [
  {
   "cell_type": "code",
   "execution_count": 82,
   "id": "a8103ac2",
   "metadata": {},
   "outputs": [
    {
     "name": "stdout",
     "output_type": "stream",
     "text": [
      "The autoreload extension is already loaded. To reload it, use:\n",
      "  %reload_ext autoreload\n"
     ]
    }
   ],
   "source": [
    "%load_ext autoreload\n",
    "%autoreload 2"
   ]
  },
  {
   "cell_type": "code",
   "execution_count": 83,
   "id": "018ead6b",
   "metadata": {},
   "outputs": [],
   "source": [
    "import numpy as np\n",
    "import pandas as pd\n",
    "import matplotlib.pyplot as plt\n",
    "import sys\n",
    "\n",
    "pd.set_option(\"display.max_rows\", 101)\n",
    "pd.set_option(\"display.max_columns\", 101)"
   ]
  },
  {
   "cell_type": "code",
   "execution_count": 84,
   "id": "9663ebc4",
   "metadata": {},
   "outputs": [
    {
     "data": {
      "image/png": "[encoded data removed]",
      "text/plain": [
       "<Figure size 640x480 with 1 Axes>"
      ]
     },
     "metadata": {},
     "output_type": "display_data"
    }
   ],
   "source": [
    "x=[0,23.77,0,23.77, 0,0,23.77,23.77, 0,23.77,0,23.77, 5.48,5.48,18.29,18.29, 5.48,18.28]\n",
    "y=[0,0,10.97,10.97, 0,10.97,0,10.97, 1.37,1.37,9.6,9.6, 1.37,9.6,1.37,9.6, 5.48,5.48]\n",
    "\n",
    "\n",
    "\n",
    "for i in range(0, len(x), 2):\n",
    "    plt.plot(x[i:i+2], y[i:i+2], 'w,-')\n",
    "    \n",
    "x1=[11.885,11.885,11.885,11.885, 11.885,11.885]\n",
    "y1=[-0.91,0.46,10.51,11.88, 0.46,10.51]\n",
    "\n",
    "for i in range(0, len(x1), 2):\n",
    "    plt.plot(x1[i:i+2], y1[i:i+2], 'ko-')\n",
    "    \n",
    "   \n",
    "\n",
    "    plt.axis('off')\n",
    "plt.axvspan(0, 23.77, ymin=0.11, ymax=0.892, alpha=0.7, color='darkolivegreen')\n",
    "    \n",
    "plt.show()\n",
    "\n",
    " "
   ]
  },
  {
   "cell_type": "code",
   "execution_count": null,
   "id": "1f9a7e99",
   "metadata": {},
   "outputs": [],
   "source": []
  }
 ],
 "metadata": {
  "kernelspec": {
   "display_name": "Python 3 (ipykernel)",
   "language": "python",
   "name": "python3"
  },
  "language_info": {
   "codemirror_mode": {
    "name": "ipython",
    "version": 3
   },
   "file_extension": ".py",
   "mimetype": "text/x-python",
   "name": "python",
   "nbconvert_exporter": "python",
   "pygments_lexer": "ipython3",
   "version": "3.8.13"
  }
 },
 "nbformat": 4,
 "nbformat_minor": 5
}
